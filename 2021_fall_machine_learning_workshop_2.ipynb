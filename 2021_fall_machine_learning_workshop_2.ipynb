{
  "nbformat": 4,
  "nbformat_minor": 0,
  "metadata": {
    "colab": {
      "name": "2021-fall-machine-learning-workshop-2.ipynb",
      "provenance": []
    },
    "kernelspec": {
      "name": "python3",
      "display_name": "Python 3"
    },
    "language_info": {
      "name": "python"
    }
  },
  "cells": [
    {
      "cell_type": "code",
      "metadata": {
        "colab": {
          "base_uri": "https://localhost:8080/"
        },
        "id": "NHJMGcC76Z4_",
        "outputId": "2e2f9778-693a-4264-bd71-7b94a195f934"
      },
      "source": [
        "import pandas as pd\n",
        "import numpy as np\n",
        "import torch\n",
        "import matplotlib.pyplot as plt\n",
        "from sklearn import datasets\n",
        "import torch.nn as nn\n",
        "torch.manual_seed(4)"
      ],
      "execution_count": null,
      "outputs": [
        {
          "output_type": "execute_result",
          "data": {
            "text/plain": [
              "<torch._C.Generator at 0x7fa428ff0a70>"
            ]
          },
          "metadata": {},
          "execution_count": 1
        }
      ]
    },
    {
      "cell_type": "code",
      "metadata": {
        "colab": {
          "base_uri": "https://localhost:8080/",
          "height": 206
        },
        "id": "j2HBkarB_gnv",
        "outputId": "d66c9340-7c1e-4c49-c369-34a10e1c98d3"
      },
      "source": [
        "# Source: https://archive.ics.uci.edu/ml/datasets/heart+disease\n",
        "url = \"https://raw.githubusercontent.com/mkrkelj1/data/main/heart-disease-cleveland.csv\"\n",
        "\n",
        "df = pd.read_csv(url, usecols=[\"age\", \"trestbps\", \"chol\", \"thalach\", \"oldpeak\", \"num_binary\"])\n",
        "df = (df-df.min())/(df.max()-df.min()) # Normalize the data (min-max norm)\n",
        "df.head()"
      ],
      "execution_count": null,
      "outputs": [
        {
          "output_type": "execute_result",
          "data": {
            "text/html": [
              "<div>\n",
              "<style scoped>\n",
              "    .dataframe tbody tr th:only-of-type {\n",
              "        vertical-align: middle;\n",
              "    }\n",
              "\n",
              "    .dataframe tbody tr th {\n",
              "        vertical-align: top;\n",
              "    }\n",
              "\n",
              "    .dataframe thead th {\n",
              "        text-align: right;\n",
              "    }\n",
              "</style>\n",
              "<table border=\"1\" class=\"dataframe\">\n",
              "  <thead>\n",
              "    <tr style=\"text-align: right;\">\n",
              "      <th></th>\n",
              "      <th>age</th>\n",
              "      <th>trestbps</th>\n",
              "      <th>chol</th>\n",
              "      <th>thalach</th>\n",
              "      <th>oldpeak</th>\n",
              "      <th>num_binary</th>\n",
              "    </tr>\n",
              "  </thead>\n",
              "  <tbody>\n",
              "    <tr>\n",
              "      <th>0</th>\n",
              "      <td>0.708333</td>\n",
              "      <td>0.481132</td>\n",
              "      <td>0.244292</td>\n",
              "      <td>0.603053</td>\n",
              "      <td>0.370968</td>\n",
              "      <td>0.0</td>\n",
              "    </tr>\n",
              "    <tr>\n",
              "      <th>1</th>\n",
              "      <td>0.791667</td>\n",
              "      <td>0.622642</td>\n",
              "      <td>0.365297</td>\n",
              "      <td>0.282443</td>\n",
              "      <td>0.241935</td>\n",
              "      <td>1.0</td>\n",
              "    </tr>\n",
              "    <tr>\n",
              "      <th>2</th>\n",
              "      <td>0.791667</td>\n",
              "      <td>0.245283</td>\n",
              "      <td>0.235160</td>\n",
              "      <td>0.442748</td>\n",
              "      <td>0.419355</td>\n",
              "      <td>1.0</td>\n",
              "    </tr>\n",
              "    <tr>\n",
              "      <th>3</th>\n",
              "      <td>0.166667</td>\n",
              "      <td>0.339623</td>\n",
              "      <td>0.283105</td>\n",
              "      <td>0.885496</td>\n",
              "      <td>0.564516</td>\n",
              "      <td>0.0</td>\n",
              "    </tr>\n",
              "    <tr>\n",
              "      <th>4</th>\n",
              "      <td>0.250000</td>\n",
              "      <td>0.339623</td>\n",
              "      <td>0.178082</td>\n",
              "      <td>0.770992</td>\n",
              "      <td>0.225806</td>\n",
              "      <td>0.0</td>\n",
              "    </tr>\n",
              "  </tbody>\n",
              "</table>\n",
              "</div>"
            ],
            "text/plain": [
              "        age  trestbps      chol   thalach   oldpeak  num_binary\n",
              "0  0.708333  0.481132  0.244292  0.603053  0.370968         0.0\n",
              "1  0.791667  0.622642  0.365297  0.282443  0.241935         1.0\n",
              "2  0.791667  0.245283  0.235160  0.442748  0.419355         1.0\n",
              "3  0.166667  0.339623  0.283105  0.885496  0.564516         0.0\n",
              "4  0.250000  0.339623  0.178082  0.770992  0.225806         0.0"
            ]
          },
          "metadata": {},
          "execution_count": 2
        }
      ]
    },
    {
      "cell_type": "code",
      "metadata": {
        "colab": {
          "base_uri": "https://localhost:8080/",
          "height": 282
        },
        "id": "K-NlByQF6rf3",
        "outputId": "cb3ec3f3-10f9-4717-801b-d60e4a2367de"
      },
      "source": [
        "x_values = np.column_stack((df.age, df.thalach)) # Convert two arrays into a 2-d matrix:\n",
        "y_values = df.num_binary.to_numpy()\n",
        "\n",
        "plt.scatter(x_values[y_values==0, 0], x_values[y_values==0, 1])\n",
        "plt.scatter(x_values[y_values==1, 0], x_values[y_values==1, 1])"
      ],
      "execution_count": null,
      "outputs": [
        {
          "output_type": "execute_result",
          "data": {
            "text/plain": [
              "<matplotlib.collections.PathCollection at 0x7fa41772ce90>"
            ]
          },
          "metadata": {},
          "execution_count": 3
        },
        {
          "output_type": "display_data",
          "data": {
            "image/png": "[encoded data removed]",
            "text/plain": [
              "<Figure size 432x288 with 1 Axes>"
            ]
          },
          "metadata": {
            "needs_background": "light"
          }
        }
      ]
    },
    {
      "cell_type": "code",
      "metadata": {
        "id": "yH6ghXnS6_sE"
      },
      "source": [
        "class PerceptronModel(nn.Module):\n",
        "    # This time dimensions are 2x1 (2 inputs and 1 output)\n",
        "    def __init__(self, in_features, out_features):\n",
        "        super().__init__()\n",
        "        self.linear = nn.Linear(in_features, out_features)\n",
        "\n",
        "    def forward(self, x):\n",
        "      prediction = torch.sigmoid(self.linear(x))\n",
        "      return prediction"
      ],
      "execution_count": null,
      "outputs": []
    },
    {
      "cell_type": "code",
      "metadata": {
        "id": "oofMVgTPfmeQ"
      },
      "source": [
        "perceptron = PerceptronModel(2, 1)\n",
        "[weights, bias] = perceptron.parameters() # Unpack the weights & bias."
      ],
      "execution_count": null,
      "outputs": []
    },
    {
      "cell_type": "code",
      "metadata": {
        "colab": {
          "base_uri": "https://localhost:8080/",
          "height": 282
        },
        "id": "G2Lq8bOMVYiY",
        "outputId": "32005aa7-5193-43db-f8aa-a16a3ec976d1"
      },
      "source": [
        "# Get the value out of the tensor\n",
        "w1 = weights[0][0].item() \n",
        "w2 = weights[0][1].item()\n",
        "b1 = bias[0].item()\n",
        "\n",
        "x1 = np.array([0, 1]) # Because our normalized data goes from 0 to 1.\n",
        "x2 = (w1 * x1 + b1) / -w2 # Solve for x2: 0 = w1*x1 + w2*x2 + b1\n",
        "\n",
        "plt.plot(x1, x2, 'r')\n",
        "plt.scatter(x_values[y_values==0, 0], x_values[y_values==0, 1])\n",
        "plt.scatter(x_values[y_values==1, 0], x_values[y_values==1, 1])"
      ],
      "execution_count": null,
      "outputs": [
        {
          "output_type": "execute_result",
          "data": {
            "text/plain": [
              "<matplotlib.collections.PathCollection at 0x7fa4171d6d90>"
            ]
          },
          "metadata": {},
          "execution_count": 6
        },
        {
          "output_type": "display_data",
          "data": {
            "image/png": "[encoded data removed]",
            "text/plain": [
              "<Figure size 432x288 with 1 Axes>"
            ]
          },
          "metadata": {
            "needs_background": "light"
          }
        }
      ]
    },
    {
      "cell_type": "code",
      "metadata": {
        "id": "v2pubDtpg1Ad"
      },
      "source": [
        "# Make sure that both arrays have the same shape. Don't overwrite old variables.\n",
        "y_values_reshaped = y_values.reshape(len(x_values), 1) \n",
        "\n",
        "# Make sure that our data are tensors!\n",
        "X = torch.Tensor(x_values)\n",
        "y = torch.Tensor(y_values_reshaped)"
      ],
      "execution_count": null,
      "outputs": []
    },
    {
      "cell_type": "code",
      "metadata": {
        "id": "t7hiJj9XeSSQ"
      },
      "source": [
        "criterion = nn.BCELoss() # Loss function: binary cross entropy.\n",
        "optimizer = torch.optim.SGD(perceptron.parameters(), lr = 0.1)\n",
        "epochs = 1000 \n",
        " \n",
        "losses = []\n",
        "\n",
        "for i in range(epochs):\n",
        "  optimizer.zero_grad() # Zero out the gradients for every epoch.\n",
        "  y_pred = perceptron.forward(X) # For every sample in X, we make a prediction with the forward function.\n",
        "  loss = criterion(y_pred, y) # Compute the loss between the prediction and samples\n",
        "  losses.append(loss.item())\n",
        "  #print(\"epoch:\", i, \"loss:\", loss.item(), \"w1:\", _w1, \"w2:\", _w2, \"b1:\", _b1)\n",
        "  loss.backward()\n",
        "  optimizer.step()"
      ],
      "execution_count": null,
      "outputs": []
    },
    {
      "cell_type": "code",
      "metadata": {
        "colab": {
          "base_uri": "https://localhost:8080/",
          "height": 282
        },
        "id": "9U_GNLTFg0cU",
        "outputId": "67bb738a-5941-4a2a-d3fb-2eca9a52941e"
      },
      "source": [
        "plt.plot(range(epochs), losses)"
      ],
      "execution_count": null,
      "outputs": [
        {
          "output_type": "execute_result",
          "data": {
            "text/plain": [
              "[<matplotlib.lines.Line2D at 0x7fa4169658d0>]"
            ]
          },
          "metadata": {},
          "execution_count": 9
        },
        {
          "output_type": "display_data",
          "data": {
            "image/png": "[encoded data removed]",
            "text/plain": [
              "<Figure size 432x288 with 1 Axes>"
            ]
          },
          "metadata": {
            "needs_background": "light"
          }
        }
      ]
    },
    {
      "cell_type": "code",
      "metadata": {
        "colab": {
          "base_uri": "https://localhost:8080/",
          "height": 282
        },
        "id": "vQBHB8iGdvrW",
        "outputId": "d4a758ec-0d0e-4ac4-dcf0-965e4893b8ae"
      },
      "source": [
        "\n",
        "w1 = weights[0][0].item() \n",
        "w2 = weights[0][1].item()\n",
        "b1 = bias[0].item()\n",
        "\n",
        "x1 = np.array([0, 1]) # Because our normalized data only goes from 0 to 1.\n",
        "x2 = (w1 * x1 + b1) / -w2 # 0 = w1*x1 + w2*x2 + b1\n",
        "\n",
        "plt.plot(x1, x2, 'r')\n",
        "plt.scatter(x_values[y_values==0, 0], x_values[y_values==0, 1])\n",
        "plt.scatter(x_values[y_values==1, 0], x_values[y_values==1, 1])"
      ],
      "execution_count": null,
      "outputs": [
        {
          "output_type": "execute_result",
          "data": {
            "text/plain": [
              "<matplotlib.collections.PathCollection at 0x7fa4168d7590>"
            ]
          },
          "metadata": {},
          "execution_count": 10
        },
        {
          "output_type": "display_data",
          "data": {
            "image/png": "[encoded data removed]",
            "text/plain": [
              "<Figure size 432x288 with 1 Axes>"
            ]
          },
          "metadata": {
            "needs_background": "light"
          }
        }
      ]
    },
    {
      "cell_type": "code",
      "metadata": {
        "id": "Be5ud8UsVYnE"
      },
      "source": [
        ""
      ],
      "execution_count": null,
      "outputs": []
    },
    {
      "cell_type": "code",
      "metadata": {
        "id": "Raairom_VZAT"
      },
      "source": [
        ""
      ],
      "execution_count": null,
      "outputs": []
    },
    {
      "cell_type": "code",
      "metadata": {
        "id": "3Qr2B8P-VZC0"
      },
      "source": [
        ""
      ],
      "execution_count": null,
      "outputs": []
    }
  ]
}