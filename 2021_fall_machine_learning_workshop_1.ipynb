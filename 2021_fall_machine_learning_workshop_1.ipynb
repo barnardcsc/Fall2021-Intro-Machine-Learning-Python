{
  "nbformat": 4,
  "nbformat_minor": 0,
  "metadata": {
    "colab": {
      "name": "2021-fall-machine-learning-workshop-1.ipynb",
      "provenance": []
    },
    "kernelspec": {
      "name": "python3",
      "display_name": "Python 3"
    },
    "language_info": {
      "name": "python"
    }
  },
  "cells": [
    {
      "cell_type": "code",
      "metadata": {
        "id": "j-OIG46HZdjR"
      },
      "source": [
        "# Heart Data Site\n",
        "# https://archive.ics.uci.edu/ml/datasets/heart+disease"
      ],
      "execution_count": null,
      "outputs": []
    },
    {
      "cell_type": "code",
      "metadata": {
        "colab": {
          "base_uri": "https://localhost:8080/"
        },
        "id": "otbfuOi0xvfm",
        "outputId": "2d22e2a6-eb20-438a-fe02-d639f98c5eea"
      },
      "source": [
        "import pandas as pd\n",
        "import numpy as np\n",
        "import torch\n",
        "import matplotlib.pyplot as plt\n",
        "from sklearn import datasets\n",
        "import torch.nn as nn\n",
        "\n",
        "torch.manual_seed(4) # Manual seed to initialize values."
      ],
      "execution_count": null,
      "outputs": [
        {
          "output_type": "execute_result",
          "data": {
            "text/plain": [
              "<torch._C.Generator at 0x7f1e2cd0da70>"
            ]
          },
          "metadata": {},
          "execution_count": 1
        }
      ]
    },
    {
      "cell_type": "code",
      "metadata": {
        "colab": {
          "base_uri": "https://localhost:8080/"
        },
        "id": "xX4Kl6ZYxttd",
        "outputId": "23730eb9-1d28-4d79-a8a3-2a539768f0d1"
      },
      "source": [
        "#######################\n",
        "######## INTRO ########\n",
        "#######################\n",
        "\n",
        "python_list = [4, 6, 9, 11, 5, 3] \n",
        "numpy_array = np.array(python_list)\n",
        "\n",
        "torch_tensor = torch.tensor(numpy_array)\n",
        "torch_tensor_linked = torch.from_numpy(numpy_array) \n",
        "\n",
        "print(python_list)\n",
        "print(numpy_array)\n",
        "print(torch_tensor)"
      ],
      "execution_count": null,
      "outputs": [
        {
          "output_type": "stream",
          "name": "stdout",
          "text": [
            "[4, 6, 9, 11, 5, 3]\n",
            "[ 4  6  9 11  5  3]\n",
            "tensor([ 4,  6,  9, 11,  5,  3])\n"
          ]
        }
      ]
    },
    {
      "cell_type": "code",
      "metadata": {
        "colab": {
          "base_uri": "https://localhost:8080/"
        },
        "id": "iuf1GM1Yxtwn",
        "outputId": "b546f28f-f218-45b0-a67c-469317754f01"
      },
      "source": [
        "# Transforming tensor back to an array:\n",
        "back_to_array = torch_tensor.numpy()\n",
        "back_to_array"
      ],
      "execution_count": null,
      "outputs": [
        {
          "output_type": "execute_result",
          "data": {
            "text/plain": [
              "array([ 4,  6,  9, 11,  5,  3])"
            ]
          },
          "metadata": {},
          "execution_count": 3
        }
      ]
    },
    {
      "cell_type": "code",
      "metadata": {
        "colab": {
          "base_uri": "https://localhost:8080/"
        },
        "id": "8MSFh4_-xt0C",
        "outputId": "26e2b6c3-8834-456c-9fba-8c89d4d71e2b"
      },
      "source": [
        "# Reshaping an array:\n",
        "numpy_array_reshaped = numpy_array.reshape(3, 2) # (rows, cols)\n",
        "numpy_array_reshaped\n",
        "\n",
        "# There's also view(), but that doesn't change the tensor inplace..."
      ],
      "execution_count": null,
      "outputs": [
        {
          "output_type": "execute_result",
          "data": {
            "text/plain": [
              "array([[ 4,  6],\n",
              "       [ 9, 11],\n",
              "       [ 5,  3]])"
            ]
          },
          "metadata": {},
          "execution_count": 4
        }
      ]
    },
    {
      "cell_type": "code",
      "metadata": {
        "colab": {
          "base_uri": "https://localhost:8080/"
        },
        "id": "i7z_y2Cxxt2Z",
        "outputId": "9fd8d0a2-c948-45c8-ea0c-dc373224268b"
      },
      "source": [
        "# Range tensor:\n",
        "range_tensor = torch.arange(0, 20, 4)\n",
        "range_tensor"
      ],
      "execution_count": null,
      "outputs": [
        {
          "output_type": "execute_result",
          "data": {
            "text/plain": [
              "tensor([ 0,  4,  8, 12, 16])"
            ]
          },
          "metadata": {},
          "execution_count": 5
        }
      ]
    },
    {
      "cell_type": "code",
      "metadata": {
        "colab": {
          "base_uri": "https://localhost:8080/"
        },
        "id": "iGaj0Jn3xt4s",
        "outputId": "2f027407-4057-4b37-857f-88f8ccab15fd"
      },
      "source": [
        "# Linear Spacing tensor:\n",
        "linspace_tensor = torch.linspace(0, 10, 100)\n",
        "linspace_tensor"
      ],
      "execution_count": null,
      "outputs": [
        {
          "output_type": "execute_result",
          "data": {
            "text/plain": [
              "tensor([ 0.0000,  0.1010,  0.2020,  0.3030,  0.4040,  0.5051,  0.6061,  0.7071,\n",
              "         0.8081,  0.9091,  1.0101,  1.1111,  1.2121,  1.3131,  1.4141,  1.5152,\n",
              "         1.6162,  1.7172,  1.8182,  1.9192,  2.0202,  2.1212,  2.2222,  2.3232,\n",
              "         2.4242,  2.5253,  2.6263,  2.7273,  2.8283,  2.9293,  3.0303,  3.1313,\n",
              "         3.2323,  3.3333,  3.4343,  3.5354,  3.6364,  3.7374,  3.8384,  3.9394,\n",
              "         4.0404,  4.1414,  4.2424,  4.3434,  4.4444,  4.5455,  4.6465,  4.7475,\n",
              "         4.8485,  4.9495,  5.0505,  5.1515,  5.2525,  5.3535,  5.4545,  5.5556,\n",
              "         5.6566,  5.7576,  5.8586,  5.9596,  6.0606,  6.1616,  6.2626,  6.3636,\n",
              "         6.4646,  6.5657,  6.6667,  6.7677,  6.8687,  6.9697,  7.0707,  7.1717,\n",
              "         7.2727,  7.3737,  7.4747,  7.5758,  7.6768,  7.7778,  7.8788,  7.9798,\n",
              "         8.0808,  8.1818,  8.2828,  8.3838,  8.4848,  8.5859,  8.6869,  8.7879,\n",
              "         8.8889,  8.9899,  9.0909,  9.1919,  9.2929,  9.3939,  9.4950,  9.5960,\n",
              "         9.6970,  9.7980,  9.8990, 10.0000])"
            ]
          },
          "metadata": {},
          "execution_count": 6
        }
      ]
    },
    {
      "cell_type": "code",
      "metadata": {
        "colab": {
          "base_uri": "https://localhost:8080/"
        },
        "id": "oAS5ADBkxt7A",
        "outputId": "6a8e1bb3-1813-4a29-fa5f-547371784a4e"
      },
      "source": [
        "# Sample from a Gaussian (normal) distribution (mean=0, SD=1)\n",
        "random_uniform_tensor = torch.randn(2, 5)\n",
        "random_uniform_tensor"
      ],
      "execution_count": null,
      "outputs": [
        {
          "output_type": "execute_result",
          "data": {
            "text/plain": [
              "tensor([[-1.6053,  0.2325,  2.2399,  0.8473,  1.2006],\n",
              "        [-0.4016, -1.4260,  0.9039,  0.8557,  0.6889]])"
            ]
          },
          "metadata": {},
          "execution_count": 7
        }
      ]
    },
    {
      "cell_type": "code",
      "metadata": {
        "id": "uY7eZRTxxt9v"
      },
      "source": [
        "###################################\n",
        "######## LINEAR REGRESSION ########\n",
        "###################################"
      ],
      "execution_count": null,
      "outputs": []
    },
    {
      "cell_type": "code",
      "metadata": {
        "colab": {
          "base_uri": "https://localhost:8080/",
          "height": 296
        },
        "id": "P4BVA0-xZegb",
        "outputId": "583011a5-de14-424c-998e-6e8256566eea"
      },
      "source": [
        "X = torch.randn(100, 1) * 10\n",
        "y = X + 3*torch.randn(100, 1) \n",
        "\n",
        "x_array = X.numpy()\n",
        "y_array = y.numpy()\n",
        "\n",
        "plt.plot(X.numpy(), y_array, 'o') \n",
        "plt.ylabel(\"y\")\n",
        "plt.xlabel(\"X\")"
      ],
      "execution_count": null,
      "outputs": [
        {
          "output_type": "execute_result",
          "data": {
            "text/plain": [
              "Text(0.5, 0, 'X')"
            ]
          },
          "metadata": {},
          "execution_count": 9
        },
        {
          "output_type": "display_data",
          "data": {
            "image/png": "[encoded data removed]",
            "text/plain": [
              "<Figure size 432x288 with 1 Axes>"
            ]
          },
          "metadata": {
            "needs_background": "light"
          }
        }
      ]
    },
    {
      "cell_type": "code",
      "metadata": {
        "id": "j96lmE68JAOE"
      },
      "source": [
        "# Use the Linear class from Pytorch to implement a model. \n",
        "class LinearRegressionModel(nn.Module):\n",
        "  # \"in_features\" & \"out_features\" are the dimensions of the input & output spaces\n",
        "  def __init__(self, in_features, out_features):\n",
        "    super().__init__() # Boilerplate...\n",
        "    # Inside the constructor, pass dimensions\n",
        "    self.linear = nn.Linear(in_features, out_features) \n",
        "\n",
        "  # Class method to make predictions\n",
        "  def forward(self, x):\n",
        "    pred = self.linear(x)\n",
        "    return pred"
      ],
      "execution_count": null,
      "outputs": []
    },
    {
      "cell_type": "code",
      "metadata": {
        "colab": {
          "base_uri": "https://localhost:8080/"
        },
        "id": "RizDUXj5Zekt",
        "outputId": "139d9397-1c92-414f-abd2-6192049823b0"
      },
      "source": [
        "model = LinearRegressionModel(1, 1) # Create a class instance w/ one incoming feature (x) and one output feature (y)\n",
        "\n",
        "weight = model.linear.weight\n",
        "bias = model.linear.bias\n",
        "\n",
        "# Print the randomly seeded weight and bias values. \n",
        "print(weight)\n",
        "print(bias)"
      ],
      "execution_count": null,
      "outputs": [
        {
          "output_type": "stream",
          "name": "stdout",
          "text": [
            "Parameter containing:\n",
            "tensor([[-0.8227]], requires_grad=True)\n",
            "Parameter containing:\n",
            "tensor([-0.2257], requires_grad=True)\n"
          ]
        }
      ]
    },
    {
      "cell_type": "code",
      "metadata": {
        "colab": {
          "base_uri": "https://localhost:8080/"
        },
        "id": "xXw56TF4Zemb",
        "outputId": "a477bc1b-689b-4dae-e9f5-c8db65afd95b"
      },
      "source": [
        "# Make a prediction:\n",
        "x = torch.tensor([4.0])\n",
        "sample_pred = model.forward(x)\n",
        "print(sample_pred)"
      ],
      "execution_count": null,
      "outputs": [
        {
          "output_type": "stream",
          "name": "stdout",
          "text": [
            "tensor([-3.5165], grad_fn=<AddBackward0>)\n"
          ]
        }
      ]
    },
    {
      "cell_type": "code",
      "metadata": {
        "id": "yssVZnycSixH",
        "colab": {
          "base_uri": "https://localhost:8080/",
          "height": 282
        },
        "outputId": "0e86f65f-aa28-4e68-f80c-6a61e6dfcca5"
      },
      "source": [
        "x1 = np.linspace(-50, 50, 100)\n",
        "w1 = weight.item()\n",
        "b1 = bias.item()\n",
        "y1 = w1 * x1 + b1 # y = m * x + b\n",
        "\n",
        "plt.scatter(x_array, y_array) # Numpy array from earlier.\n",
        "plt.plot(x1, y1, 'g') "
      ],
      "execution_count": null,
      "outputs": [
        {
          "output_type": "execute_result",
          "data": {
            "text/plain": [
              "[<matplotlib.lines.Line2D at 0x7f1e1be953d0>]"
            ]
          },
          "metadata": {},
          "execution_count": 13
        },
        {
          "output_type": "display_data",
          "data": {
            "image/png": "[encoded data removed]",
            "text/plain": [
              "<Figure size 432x288 with 1 Axes>"
            ]
          },
          "metadata": {
            "needs_background": "light"
          }
        }
      ]
    },
    {
      "cell_type": "code",
      "metadata": {
        "id": "TABgTEQEZetz"
      },
      "source": [
        "# Declare a loss function. Goal is to minimize this function.\n",
        "criterion = nn.MSELoss()\n",
        "\n",
        "# Pick an optimizer (Stochastic Gradient Descent) & learning rate.\n",
        "optimizer = torch.optim.SGD(model.parameters(), lr = 0.001)\n",
        "\n",
        "epochs = 1000 # Number of cycles through the entire dataset.\n",
        " \n",
        "losses = []\n",
        "\n",
        "for i in range(epochs):\n",
        "  y_pred = model.forward(X) # Make a prediction for every sample.\n",
        "  loss = criterion(y_pred, y) # Calculate the loss between the predicted values and true y-values.\n",
        "  losses.append(loss.item()) # Append the loss to losses list (to plot later).\n",
        "  #print(\"epoch:\", i, \"loss:\", loss.item())\n",
        "  optimizer.zero_grad() # Gradients accumulate; zero out the gradients for every epoch.\n",
        "  loss.backward() # Compute the gradient / derivative of the loss function.\n",
        "  optimizer.step() # Update the parameters."
      ],
      "execution_count": null,
      "outputs": []
    },
    {
      "cell_type": "code",
      "metadata": {
        "colab": {
          "base_uri": "https://localhost:8080/",
          "height": 282
        },
        "id": "4OWWlEISZev8",
        "outputId": "1be7e69c-d792-4372-d1e8-56b72e59b9c3"
      },
      "source": [
        "plt.plot(range(epochs), losses)"
      ],
      "execution_count": null,
      "outputs": [
        {
          "output_type": "execute_result",
          "data": {
            "text/plain": [
              "[<matplotlib.lines.Line2D at 0x7f1e1c39b690>]"
            ]
          },
          "metadata": {},
          "execution_count": 15
        },
        {
          "output_type": "display_data",
          "data": {
            "image/png": "[encoded data removed]",
            "text/plain": [
              "<Figure size 432x288 with 1 Axes>"
            ]
          },
          "metadata": {
            "needs_background": "light"
          }
        }
      ]
    },
    {
      "cell_type": "code",
      "metadata": {
        "colab": {
          "base_uri": "https://localhost:8080/",
          "height": 282
        },
        "id": "vXpnJ1WPZexx",
        "outputId": "5f1f32cf-bdd5-4e06-bbc0-49268a56750b"
      },
      "source": [
        "\n",
        "_X = np.linspace(-50, 50, 100) # initial x values to test\n",
        "\n",
        "_w1 = model.linear.weight.item()\n",
        "_b1 = model.linear.bias.item()\n",
        "\n",
        "_y = _w1 * _X + _b1\n",
        "\n",
        "plt.scatter(X.numpy(), y.numpy()) # Original\n",
        "plt.plot(_X, _y, 'red') # New ones..."
      ],
      "execution_count": null,
      "outputs": [
        {
          "output_type": "execute_result",
          "data": {
            "text/plain": [
              "[<matplotlib.lines.Line2D at 0x7f1e1bd1de50>]"
            ]
          },
          "metadata": {},
          "execution_count": 16
        },
        {
          "output_type": "display_data",
          "data": {
            "image/png": "[encoded data removed]",
            "text/plain": [
              "<Figure size 432x288 with 1 Axes>"
            ]
          },
          "metadata": {
            "needs_background": "light"
          }
        }
      ]
    },
    {
      "cell_type": "code",
      "metadata": {
        "id": "VMlE-T-JdDqD"
      },
      "source": [
        ""
      ],
      "execution_count": null,
      "outputs": []
    },
    {
      "cell_type": "code",
      "metadata": {
        "id": "4lT9m9XqdDsR"
      },
      "source": [
        ""
      ],
      "execution_count": null,
      "outputs": []
    },
    {
      "cell_type": "code",
      "metadata": {
        "id": "D3gZEzWCdDuf"
      },
      "source": [
        ""
      ],
      "execution_count": null,
      "outputs": []
    },
    {
      "cell_type": "code",
      "metadata": {
        "id": "wFzSiEz1dDwn"
      },
      "source": [
        ""
      ],
      "execution_count": null,
      "outputs": []
    },
    {
      "cell_type": "code",
      "metadata": {
        "id": "lYMtanKKdDyz"
      },
      "source": [
        ""
      ],
      "execution_count": null,
      "outputs": []
    },
    {
      "cell_type": "code",
      "metadata": {
        "id": "t3mZwmHNdD02"
      },
      "source": [
        ""
      ],
      "execution_count": null,
      "outputs": []
    }
  ]
}